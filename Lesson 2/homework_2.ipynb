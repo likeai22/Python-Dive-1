{
 "cells": [
  {
   "cell_type": "markdown",
   "metadata": {},
   "source": [
    "## Задача 2.\n",
    "\n",
    "Напишите программу, которая получает целое число и возвращает его шестнадцатеричное строковое представление. Функцию hex используйте для проверки своего результата."
   ]
  },
  {
   "cell_type": "code",
   "execution_count": 20,
   "metadata": {},
   "outputs": [
    {
     "name": "stdout",
     "output_type": "stream",
     "text": [
      "Шестнадцатеричное представление числа 333: 14D,       \n",
      "проверка: 14D\n"
     ]
    }
   ],
   "source": [
    "def to_hexadecimal(num):\n",
    "    hex_chars = \"0123456789ABCDEF\"\n",
    "    result = \"\"\n",
    "\n",
    "    if num == 0:\n",
    "        return \"0\"\n",
    "\n",
    "    while num > 0:\n",
    "        remainder = num % 16\n",
    "        result = hex_chars[remainder] + result\n",
    "        num //= 16\n",
    "\n",
    "    return result\n",
    "\n",
    "# Получаем целое число от пользователя\n",
    "num = int(input(\"Введите целое число: \"))\n",
    "\n",
    "# Получаем шестнадцатеричное представление числа\n",
    "hexadecimal_num = to_hexadecimal(num)\n",
    "\n",
    "# Выводим шестнадцатеричное представление числа\n",
    "print(f\"Шестнадцатеричное представление числа {num}: {hexadecimal_num}, \\\n",
    "      \\nпроверка: {str(hex(num)[2:]).upper()}\")\n"
   ]
  },
  {
   "cell_type": "markdown",
   "metadata": {},
   "source": [
    "## Задача 3.\n",
    "\n",
    "Напишите программу, которая принимает две строки вида “a/b” - дробь с числителем и знаменателем. Программа должна возвращать сумму и произведение* дробей. Для проверки своего кода используйте модуль fractions"
   ]
  },
  {
   "cell_type": "code",
   "execution_count": null,
   "metadata": {},
   "outputs": [],
   "source": []
  }
 ],
 "metadata": {
  "kernelspec": {
   "display_name": "py312_math",
   "language": "python",
   "name": "python3"
  },
  "language_info": {
   "codemirror_mode": {
    "name": "ipython",
    "version": 3
   },
   "file_extension": ".py",
   "mimetype": "text/x-python",
   "name": "python",
   "nbconvert_exporter": "python",
   "pygments_lexer": "ipython3",
   "version": "3.12.0"
  }
 },
 "nbformat": 4,
 "nbformat_minor": 2
}
