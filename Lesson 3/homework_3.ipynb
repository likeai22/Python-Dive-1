{
 "cells": [
  {
   "cell_type": "markdown",
   "id": "4c874770b141a26a",
   "metadata": {},
   "source": [
    "Дан список повторяющихся элементов. Вернуть список с дублирующимися элементами. В результирующем списке не должно быть дубликатов."
   ]
  },
  {
   "cell_type": "code",
   "execution_count": 1,
   "id": "initial_id",
   "metadata": {
    "ExecuteTime": {
     "end_time": "2024-05-08T21:09:10.569790100Z",
     "start_time": "2024-05-08T21:09:10.515016800Z"
    },
    "collapsed": true
   },
   "outputs": [
    {
     "name": "stdout",
     "output_type": "stream",
     "text": [
      "[1055, 1086, 1075, 1088, 1091, 1078, 1077, 1085, 1080, 1077, 32, 1074, 32, 80, 121, 116, 104, 111, 110, 46, 32, 1063, 1072, 1089, 1090, 1100, 32, 49, 32, 40, 1089, 1077, 1084, 1080, 1085, 1072, 1088, 1099, 41]\n"
     ]
    }
   ],
   "source": [
    "lesson_title = 'Погружение в Python. Часть 1 (семинары)'\n",
    "integer_array = [ord(letter) for letter in lesson_title]\n",
    "print(integer_array)"
   ]
  },
  {
   "cell_type": "code",
   "execution_count": 2,
   "id": "58b23bc81731f777",
   "metadata": {
    "ExecuteTime": {
     "end_time": "2024-05-08T21:09:10.570787700Z",
     "start_time": "2024-05-08T21:09:10.529692700Z"
    }
   },
   "outputs": [
    {
     "data": {
      "text/plain": [
       "defaultdict(<function __main__.<lambda>()>,\n",
       "            {1055: 1,\n",
       "             1086: 1,\n",
       "             1075: 1,\n",
       "             1088: 2,\n",
       "             1091: 1,\n",
       "             1078: 1,\n",
       "             1077: 3,\n",
       "             1085: 2,\n",
       "             1080: 2,\n",
       "             32: 5,\n",
       "             1074: 1,\n",
       "             80: 1,\n",
       "             121: 1,\n",
       "             116: 1,\n",
       "             104: 1,\n",
       "             111: 1,\n",
       "             110: 1,\n",
       "             46: 1,\n",
       "             1063: 1,\n",
       "             1072: 2,\n",
       "             1089: 2,\n",
       "             1090: 1,\n",
       "             1100: 1,\n",
       "             49: 1,\n",
       "             40: 1,\n",
       "             1084: 1,\n",
       "             1099: 1,\n",
       "             41: 1})"
      ]
     },
     "execution_count": 2,
     "metadata": {},
     "output_type": "execute_result"
    }
   ],
   "source": [
    "from collections import defaultdict\n",
    "\n",
    "dd = defaultdict(lambda : 0)\n",
    "for word in integer_array:\n",
    "    dd[word] += 1\n",
    "\n",
    "dd"
   ]
  },
  {
   "cell_type": "code",
   "execution_count": 3,
   "id": "f420e49731808d76",
   "metadata": {
    "ExecuteTime": {
     "end_time": "2024-05-08T21:09:10.571787900Z",
     "start_time": "2024-05-08T21:09:10.542628Z"
    }
   },
   "outputs": [
    {
     "data": {
      "text/plain": [
       "39"
      ]
     },
     "execution_count": 3,
     "metadata": {},
     "output_type": "execute_result"
    }
   ],
   "source": [
    "ARRAY_LENGTH = len(integer_array)\n",
    "ARRAY_LENGTH"
   ]
  },
  {
   "cell_type": "code",
   "execution_count": 4,
   "id": "68f47c0c3d769248",
   "metadata": {
    "ExecuteTime": {
     "end_time": "2024-05-08T21:09:10.572789400Z",
     "start_time": "2024-05-08T21:09:10.558595600Z"
    }
   },
   "outputs": [
    {
     "data": {
      "text/plain": [
       "[1088, 1077, 1085, 1080, 32, 1072, 1089]"
      ]
     },
     "execution_count": 4,
     "metadata": {},
     "output_type": "execute_result"
    }
   ],
   "source": [
    "printed = [] # список для отслеживания напечатанных элементов\n",
    "\n",
    "for i in range(ARRAY_LENGTH): # Брутфорс\n",
    "    if integer_array[i] not in printed:\n",
    "        for j in range(i+1, ARRAY_LENGTH): \n",
    "            if integer_array[i] == integer_array[j]: \n",
    "                printed.append(integer_array[i])\n",
    "                break\n",
    "printed"
   ]
  },
  {
   "cell_type": "code",
   "execution_count": 5,
   "id": "b52cddd5462ed719",
   "metadata": {
    "ExecuteTime": {
     "end_time": "2024-05-08T21:09:10.595302200Z",
     "start_time": "2024-05-08T21:09:10.571787900Z"
    }
   },
   "outputs": [
    {
     "data": {
      "text/plain": [
       "[1088, 1077, 1085, 1080, 32, 1072, 1089]"
      ]
     },
     "execution_count": 5,
     "metadata": {},
     "output_type": "execute_result"
    }
   ],
   "source": [
    "from collections import Counter  # с Counter код чище и короче, чем предыдущие версии\n",
    "\n",
    "printed = [key for key, value in Counter(integer_array).items() if value > 1]\n",
    "printed"
   ]
  },
  {
   "cell_type": "code",
   "execution_count": 6,
   "id": "3f88fc7404dea396",
   "metadata": {
    "ExecuteTime": {
     "end_time": "2024-05-08T21:09:10.745010900Z",
     "start_time": "2024-05-08T21:09:10.582595200Z"
    },
    "collapsed": false
   },
   "outputs": [
    {
     "data": {
      "text/plain": [
       "39"
      ]
     },
     "execution_count": 6,
     "metadata": {},
     "output_type": "execute_result"
    }
   ],
   "source": [
    "integer_array.__len__()"
   ]
  },
  {
   "cell_type": "code",
   "execution_count": 7,
   "id": "6c912508743464d5",
   "metadata": {
    "ExecuteTime": {
     "end_time": "2024-05-08T21:09:10.812010100Z",
     "start_time": "2024-05-08T21:09:10.597371900Z"
    }
   },
   "outputs": [
    {
     "data": {
      "text/plain": [
       "[1088, 1077, 1085, 1080, 32, 1072, 1089]"
      ]
     },
     "execution_count": 7,
     "metadata": {},
     "output_type": "execute_result"
    }
   ],
   "source": [
    "def find_duplicates(arr):\n",
    "    counts = {}\n",
    "    for a in arr:\n",
    "        counts[a] = counts.get(a, 0) + 1    \n",
    "    return [a for a, count in counts.items() if count > 1]\n",
    "\n",
    "printed = find_duplicates(integer_array)\n",
    "printed"
   ]
  },
  {
   "cell_type": "markdown",
   "id": "7531ffce396e44ab",
   "metadata": {},
   "source": [
    "В большой текстовой строке подсчитать количество встречаемых слов и вернуть 10 самых частых. Не учитывать знаки препинания и регистр символов. За основу возьмите любую статью из википедии или из документации к языку."
   ]
  },
  {
   "cell_type": "code",
   "execution_count": 8,
   "id": "84f87740a6926131",
   "metadata": {
    "ExecuteTime": {
     "end_time": "2024-05-08T21:09:11.270901100Z",
     "start_time": "2024-05-08T21:09:10.611001300Z"
    }
   },
   "outputs": [
    {
     "data": {
      "text/plain": [
       "' Foundations Data science is an interdisciplinary academic field that uses statistics, scientific computing, scientific methods, processes, algorithms and systems to extract or extrapolate knowledge and insights from potentially noisy, structured, or unstructured data. Relationship to statistics Data science also integrates domain knowledge from the underlying application domain (e.g., natural sciences, information technology, and medicine). Data science is multifaceted and can be described as a science, a research paradigm, a research method, a discipline, a workflow, and a profession. Etymology Data science is \"a concept to unify statistics, data analysis, informatics, and their related methods\" to \"understand and analyze actual phenomena\" with data. It uses techniques and theories drawn from many fields within the context of mathematics, statistics, computer science, information science, and domain knowledge. However, data science is different from computer science and information science. Turing Award winner Jim Gray imagined data science as a \"fourth paradigm\" of science (empirical, theoretical, computational, and now data-driven) and asserted that \"everything about science is changing because of the impact of information technology\" and the data deluge. Early usage A  data scientist is a professional who creates programming code and combines it with statistical knowledge to create insights from data. Modern usage Data science is an interdisciplinary field focused on extracting knowledge from typically large data sets and applying the knowledge and insights from that data to solve problems in a wide range of application domains. The field encompasses preparing data for analysis, formulating data science problems, analyzing data, developing data-driven solutions, and presenting findings to inform high-level decisions in a broad range of application domains. As such, it incorporates skills from computer science, statistics, information science, mathematics, data visualization, information visualization, data sonification, data integration, graphic design, complex systems, communication and business. Statistician Nathan Yau, drawing on Ben Fry, also links data science to human–computer interaction: users should be able to intuitively control and explore data. In 2015, the American Statistical Association identified database management, statistics and machine learning, and distributed and parallel systems as the three emerging foundational professional communities. Data science and data analysis Many statisticians, including Nate Silver, have argued that data science is not a new field, but rather another name for statistics. Others argue that data science is distinct from statistics because it focuses on problems and techniques unique to digital data. Vasant Dhar writes that statistics emphasizes quantitative data and description. In contrast, data science deals with quantitative and qualitative data (e.g., from images, text, sensors, transactions, customer information, etc.) and emphasizes prediction and action. Andrew Gelman of Columbia University has described statistics as a non-essential part of data science. Cloud Computing for Data Science Stanford professor David Donoho writes that data science is not distinguished from statistics by the size of datasets or use of computing and that many graduate programs misleadingly advertise their analytics and statistics training as the essence of a data-science program. He describes data science as an applied field growing out of traditional statistics. Ethical consideration in Data Science In 1962, John Tukey described a field he called \"data analysis\", which resembles modern data science. In 1985, in a lecture given to the Chinese Academy of Sciences in Beijing, C.\\xa0F. Jeff Wu used the term \"data science\" for the first time as an alternative name for statistics. Later, attendees at a 1992 statistics symposium at the University of Montpellier\\xa0 II acknowledged the emergence of a new discipline focused on data of various origins and forms, combining established concepts and principles of statistics and data analysis with computing. See also The term \"data science\" has been traced back to 1974, when Peter Naur proposed it as an alternative name to computer science. In 1996, the International Federation of Classification Societies became the first conference to specifically feature data science as a topic. However, the definition was still in flux. After the 1985 lecture at the Chinese Academy of Sciences in Beijing, in 1997 C.\\xa0F. Jeff Wu again suggested that statistics should be renamed data science. He reasoned that a new name would help statistics shed inaccurate stereotypes, such as being synonymous with accounting or limited to describing data. In 1998, Hayashi Chikio argued for data science as a new, interdisciplinary concept, with three aspects: data design, collection, and analysis. References'"
      ]
     },
     "execution_count": 8,
     "metadata": {},
     "output_type": "execute_result"
    }
   ],
   "source": [
    "from urllib.request import urlopen\n",
    "from bs4 import BeautifulSoup\n",
    "import re\n",
    "\n",
    "PAGE_URL = 'https://en.wikipedia.org/wiki/Data_science'\n",
    "source = urlopen(PAGE_URL).read()\n",
    "\n",
    "soup = BeautifulSoup(source,'html.parser')\n",
    "\n",
    "paras = [str(paragraph.text) for paragraph in soup.find_all('p')]\n",
    "heads = [str(head.text) for head in soup.find_all('span', attrs={'mw-headline'})]\n",
    "\n",
    "text = ' '.join([val for pair in zip(paras, heads) for val in pair])\n",
    "text = re.sub(r\"\\[.*?\\]+\", '', text)\n",
    "text = text.replace('\\n', '')\n",
    "# data = text.lower() # не учитывать регистр\n",
    "data = text\n",
    "data"
   ]
  },
  {
   "cell_type": "code",
   "execution_count": 9,
   "id": "29552d1a064dfe22",
   "metadata": {
    "ExecuteTime": {
     "end_time": "2024-05-08T21:09:11.283429500Z",
     "start_time": "2024-05-08T21:09:11.263670900Z"
    }
   },
   "outputs": [
    {
     "name": "stdout",
     "output_type": "stream",
     "text": [
      "[('data', 42), ('and', 34), ('science', 33), ('a', 21), ('the', 19), ('of', 19), ('statistics', 18), ('to', 15), ('from', 11), ('as', 11)]\n"
     ]
    }
   ],
   "source": [
    "words = re.findall('[a-zа-я]+', data, flags=re.IGNORECASE)\n",
    "\n",
    "word_counts = {word: words.count(word) for word in set(words)}\n",
    "top_10_words_with_counts = sorted(word_counts.items(), key=lambda x: x[1], reverse=True)[:10]\n",
    "\n",
    "print(top_10_words_with_counts)"
   ]
  },
  {
   "cell_type": "markdown",
   "id": "e255f4f5975d172c",
   "metadata": {},
   "source": [
    "Создайте словарь со списком вещей для похода в качестве ключа и их массой в качестве значения. Определите какие вещи влезут в рюкзак передав его максимальную грузоподъёмность. Достаточно вернуть один допустимый вариант.*Верните все возможные варианты комплектации рюкзака.\n"
   ]
  },
  {
   "cell_type": "code",
   "execution_count": 106,
   "id": "a57056c4cdbefb1a",
   "metadata": {
    "ExecuteTime": {
     "end_time": "2024-05-08T21:09:11.294521400Z",
     "start_time": "2024-05-08T21:09:11.276436300Z"
    },
    "collapsed": false
   },
   "outputs": [],
   "source": [
    "# Тестирование по примеру из учебника\n",
    "# \"Кузюрин Н.Н., Фомин С.А. Эффективные алгоритмы и сложность вычислений\"\n",
    "# Предметы ( вес / стоимость )\n",
    "items = ['3/6', '4/3', '5/2', '6/5', '7/5', '8/1']\n",
    "capacity = 9\n"
   ]
  },
  {
   "cell_type": "code",
   "execution_count": 110,
   "id": "1c18a4db534852e1",
   "metadata": {
    "ExecuteTime": {
     "end_time": "2024-05-08T21:30:38.053569700Z",
     "start_time": "2024-05-08T21:30:38.022042100Z"
    }
   },
   "outputs": [
    {
     "name": "stdout",
     "output_type": "stream",
     "text": [
      "[0, 0, 0, 0, 0, 0, 0, 0, 0, 0]\n",
      "[0, 0, 0, 6, 6, 6, 6, 6, 6, 6]\n",
      "[0, 0, 0, 6, 6, 6, 6, 9, 9, 9]\n",
      "[0, 0, 0, 6, 6, 6, 6, 9, 9, 9]\n",
      "[0, 0, 0, 6, 6, 6, 6, 9, 9, 11]\n",
      "[0, 0, 0, 6, 6, 6, 6, 9, 9, 11]\n",
      "[0, 0, 0, 6, 6, 6, 6, 9, 9, 11]\n",
      "Максимальная ценность, которую удастся унести: 11\n",
      "Выбранные стоимости предметов: ['3/6', '6/5']\n"
     ]
    }
   ],
   "source": [
    "def knapsack(items, capacity):\n",
    "    n = len(items)\n",
    "    f = [ [0] * (capacity + 1) for _ in range(n + 1)]\n",
    "    for i in range(1, n + 1):\n",
    "        for k in range(1, capacity + 1):\n",
    "            weight, cost = map(int, items[i - 1].split('/'))\n",
    "            if k >= weight:\n",
    "                f[i][k] = max(f[i - 1][k], f[i - 1][k - weight] + cost)\n",
    "            else:\n",
    "                f[i][k] = f[i - 1][k]\n",
    "                \n",
    "    # распечатаем таблицу дп\n",
    "    for i in range(n + 1):\n",
    "        print(f[i])\n",
    "    \n",
    "    # восстановим ответы перебирая предметы с конца\n",
    "    result = []\n",
    "    w = capacity\n",
    "    for i in range(n, 0, -1):\n",
    "        weight, cost = map(int, items[i - 1].split('/'))\n",
    "        if f[i][w] != f[i - 1][w]:\n",
    "            result.append(items[i - 1])\n",
    "            w -= weight\n",
    "    \n",
    "    return f[n][capacity], result[::-1]\n",
    "\n",
    "\n",
    "max_value, selected_items = knapsack(items, capacity)\n",
    "print(\"Максимальная ценность, которую удастся унести:\", max_value)\n",
    "print(\"Выбранные стоимости предметов:\", selected_items)"
   ]
  },
  {
   "cell_type": "code",
   "execution_count": 111,
   "id": "227e96ac6a13e1d5",
   "metadata": {
    "ExecuteTime": {
     "end_time": "2024-05-08T21:09:11.378311700Z",
     "start_time": "2024-05-08T21:09:11.303824600Z"
    }
   },
   "outputs": [
    {
     "name": "stdout",
     "output_type": "stream",
     "text": [
      "Возможные варианты комплектации рюкзака:\n",
      "['3/6', '4/3']\n",
      "['3/6', '5/2']\n",
      "['3/6', '6/5']\n",
      "['3/6']\n",
      "['4/3', '5/2']\n",
      "['4/3']\n",
      "['5/2']\n",
      "['6/5']\n",
      "['7/5']\n",
      "['8/1']\n",
      "[]\n"
     ]
    }
   ],
   "source": [
    "def knapsack(items, capacity, selected=None):\n",
    "    if selected is None:\n",
    "        selected = []\n",
    "    if capacity == 0 or not items:\n",
    "        yield selected\n",
    "        return\n",
    "\n",
    "    weight, cost = map(int, items[0].split('/'))\n",
    "    if weight <= capacity:\n",
    "        # Выбираем текущий предмет\n",
    "        yield from knapsack(items[1:], capacity - weight, selected + [items[0]])\n",
    "    # Пропускаем текущий предмет\n",
    "    yield from knapsack(items[1:], capacity, selected)\n",
    "\n",
    "print(\"Возможные варианты комплектации рюкзака:\")\n",
    "for combination in knapsack(items, capacity):\n",
    "    print(combination)"
   ]
  },
  {
   "cell_type": "code",
   "execution_count": null,
   "metadata": {},
   "outputs": [],
   "source": []
  }
 ],
 "metadata": {
  "kernelspec": {
   "display_name": "Python 3",
   "language": "python",
   "name": "python3"
  },
  "language_info": {
   "codemirror_mode": {
    "name": "ipython",
    "version": 3
   },
   "file_extension": ".py",
   "mimetype": "text/x-python",
   "name": "python",
   "nbconvert_exporter": "python",
   "pygments_lexer": "ipython3",
   "version": "3.12.0"
  }
 },
 "nbformat": 4,
 "nbformat_minor": 5
}
