{
 "cells": [
  {
   "metadata": {},
   "cell_type": "markdown",
   "source": [
    "2. Напишите функцию, которая получает на вход директорию и рекурсивно обходит её и все вложенные директории. Результаты обхода сохраните в файлы json, csv и pickle.\n",
    "   * Для дочерних объектов указывайте родительскую директорию.\n",
    "   * Для каждого объекта укажите файл это или директория.\n",
    "   * Для файлов сохраните его размер в байтах, а для директорий размер файлов в ней с учётом всех вложенных файлов и директорий.\n",
    "3. Соберите из созданных на уроке и в рамках домашнего задания функций пакет для работы с файлами разных форматов."
   ],
   "id": "fbaea37b86060c5c"
  },
  {
   "metadata": {
    "ExecuteTime": {
     "end_time": "2024-06-07T03:18:16.920445Z",
     "start_time": "2024-06-07T03:18:15.900046Z"
    }
   },
   "cell_type": "code",
   "source": [
    "from pathlib import Path\n",
    "from seminar import process_directory"
   ],
   "id": "a9e7f10ec465b650",
   "outputs": [],
   "execution_count": 1
  },
  {
   "metadata": {
    "ExecuteTime": {
     "end_time": "2024-06-07T03:18:19.829857Z",
     "start_time": "2024-06-07T03:18:19.738706Z"
    }
   },
   "cell_type": "code",
   "source": [
    "if __name__ == \"__main__\":\n",
    "    process_directory(Path.cwd())"
   ],
   "id": "53ceec5985893dd9",
   "outputs": [],
   "execution_count": 2
  }
 ],
 "metadata": {
  "kernelspec": {
   "display_name": "Python 3",
   "language": "python",
   "name": "python3"
  },
  "language_info": {
   "codemirror_mode": {
    "name": "ipython",
    "version": 2
   },
   "file_extension": ".py",
   "mimetype": "text/x-python",
   "name": "python",
   "nbconvert_exporter": "python",
   "pygments_lexer": "ipython2",
   "version": "2.7.6"
  }
 },
 "nbformat": 4,
 "nbformat_minor": 5
}
