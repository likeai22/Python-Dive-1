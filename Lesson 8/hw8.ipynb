{
 "cells": [
  {
   "metadata": {},
   "cell_type": "markdown",
   "source": [
    "2. Напишите функцию, которая получает на вход директорию и рекурсивно обходит её и все вложенные директории. Результаты обхода сохраните в файлы json, csv и pickle.\n",
    "   * Для дочерних объектов указывайте родительскую директорию.\n",
    "   * Для каждого объекта укажите файл это или директория.\n",
    "   * Для файлов сохраните его размер в байтах, а для директорий размер файлов в ней с учётом всех вложенных файлов и директорий.\n",
    "3. Соберите из созданных на уроке и в рамках домашнего задания функций пакет для работы с файлами разных форматов."
   ],
   "id": "fbaea37b86060c5c"
  },
  {
   "metadata": {
    "ExecuteTime": {
     "end_time": "2024-06-06T01:39:01.124087Z",
     "start_time": "2024-06-06T01:39:01.096563Z"
    }
   },
   "cell_type": "code",
   "source": [
    "import json\n",
    "import csv\n",
    "import pickle\n",
    "from pathlib import Path\n",
    "\n",
    "\n",
    "def process_directory(root_directory: str | Path) -> None:\n",
    "    \"\"\"Использую для задачи pathlib, но при необходимости код можно переписать для os.walk()\"\"\"\n",
    "    data = []\n",
    "\n",
    "    for path_object in root_directory.rglob(\"*\"):\n",
    "        if path_object.is_file():\n",
    "            file_data = {\n",
    "                \"name\": path_object.name,\n",
    "                \"parent\": path_object.parent.name,\n",
    "                \"size\": path_object.stat().st_size,\n",
    "                \"type\": \"file\",\n",
    "            }\n",
    "            data.append(file_data)\n",
    "        elif path_object.is_dir():\n",
    "            dir_size = sum(path.stat().st_size for path in path_object.rglob(\"*\"))\n",
    "            dir_data = {\n",
    "                \"name\": path_object.name,\n",
    "                \"parent\": path_object.parent.name,\n",
    "                \"size\": dir_size,\n",
    "                \"type\": \"directory\",\n",
    "            }\n",
    "            data.append(dir_data)\n",
    "\n",
    "    with open(\"output.json\", \"w\") as json_file:\n",
    "        json.dump(data, json_file, indent=4)\n",
    "\n",
    "    with open(\"output.csv\", \"w\", newline=\"\") as csv_file:\n",
    "        fieldnames = [\"name\", \"parent\", \"size\", \"type\"]\n",
    "        csv_writer = csv.DictWriter(csv_file, fieldnames=fieldnames)\n",
    "        csv_writer.writeheader()\n",
    "        csv_writer.writerows(data)\n",
    "\n",
    "    with open(\"output.pickle\", \"wb\") as pickle_file:\n",
    "        pickle.dump(data, pickle_file)"
   ],
   "id": "a9e7f10ec465b650",
   "outputs": [],
   "execution_count": 6
  },
  {
   "metadata": {},
   "cell_type": "code",
   "outputs": [],
   "execution_count": null,
   "source": [
    "if __name__ == \"__main__\":\n",
    "    root_directory = Path(\".\")\n",
    "    process_directory(root_directory.absolute())"
   ],
   "id": "53ceec5985893dd9"
  }
 ],
 "metadata": {
  "kernelspec": {
   "display_name": "Python 3",
   "language": "python",
   "name": "python3"
  },
  "language_info": {
   "codemirror_mode": {
    "name": "ipython",
    "version": 2
   },
   "file_extension": ".py",
   "mimetype": "text/x-python",
   "name": "python",
   "nbconvert_exporter": "python",
   "pygments_lexer": "ipython2",
   "version": "2.7.6"
  }
 },
 "nbformat": 4,
 "nbformat_minor": 5
}
