{
 "cells": [
  {
   "metadata": {},
   "cell_type": "markdown",
   "source": [
    "2. Напишите функцию группового переименования файлов. Она должна:\n",
    "   * a. принимать параметр желаемое конечное имя файлов. \n",
    "     При переименовании в конце имени добавляется порядковый номер.\n",
    "   * b. принимать параметр количество цифр в порядковом номере.\n",
    "   * c. принимать параметр расширение исходного файла. \n",
    "     Переименование должно работать только для этих файлов внутри каталога.\n",
    "   * d. принимать параметр расширение конечного файла.\n",
    "   * e. принимать диапазон сохраняемого оригинального имени. \n",
    "Например для диапазона [3, 6] берутся буквы с 3 по 6 из исходного имени файла.\n",
    "   К ним прибавляется желаемое конечное имя, если оно передано. \n",
    "   Далее счётчик файлов и расширение.\n",
    "3. Соберите из созданных на уроке и в рамках домашнего задания функций\n",
    "пакет для работы с файлами."
   ],
   "id": "706593032995f521"
  },
  {
   "metadata": {
    "ExecuteTime": {
     "end_time": "2024-06-07T02:58:44.300161Z",
     "start_time": "2024-06-07T02:58:44.200149Z"
    }
   },
   "cell_type": "code",
   "source": [
    "from pathlib import Path\n",
    "import send2trash\n",
    "\n",
    "from seminar import gen_different_files, file_group_renaming_tool"
   ],
   "id": "479c2caf79c8050d",
   "outputs": [],
   "execution_count": 1
  },
  {
   "metadata": {
    "ExecuteTime": {
     "end_time": "2024-06-07T02:58:46.051614Z",
     "start_time": "2024-06-07T02:58:44.303238Z"
    }
   },
   "cell_type": "code",
   "source": [
    "data_folder = Path(\"./data\")\n",
    "if data_folder.exists():\n",
    "    send2trash.send2trash(data_folder)\n",
    "data_folder.mkdir()\n",
    "gen_different_files(\n",
    "    data_folder,\n",
    "    doc=5,\n",
    "    bin=3,\n",
    ")"
   ],
   "id": "fd91355233ec538d",
   "outputs": [],
   "execution_count": 2
  },
  {
   "metadata": {
    "ExecuteTime": {
     "end_time": "2024-06-07T02:58:46.072582Z",
     "start_time": "2024-06-07T02:58:46.053631Z"
    }
   },
   "cell_type": "code",
   "source": "file_group_renaming_tool(6, \"doc\", \"csv\", [0, 3], \"resume\", data_folder.cwd())",
   "id": "57d08043c63596d1",
   "outputs": [
    {
     "name": "stdout",
     "output_type": "stream",
     "text": [
      "Новое имя файла после преобразования: 9rdresume000001.csv\n",
      "Новое имя файла после преобразования: e_presume000002.csv\n",
      "Новое имя файла после преобразования: gn0resume000003.csv\n",
      "Новое имя файла после преобразования: lk8resume000004.csv\n",
      "Новое имя файла после преобразования: renresume000005.csv\n"
     ]
    }
   ],
   "execution_count": 3
  }
 ],
 "metadata": {
  "kernelspec": {
   "display_name": "Python 3",
   "language": "python",
   "name": "python3"
  },
  "language_info": {
   "codemirror_mode": {
    "name": "ipython",
    "version": 2
   },
   "file_extension": ".py",
   "mimetype": "text/x-python",
   "name": "python",
   "nbconvert_exporter": "python",
   "pygments_lexer": "ipython2",
   "version": "2.7.6"
  }
 },
 "nbformat": 4,
 "nbformat_minor": 5
}
