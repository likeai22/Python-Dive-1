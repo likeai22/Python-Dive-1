{
 "cells": [
  {
   "metadata": {},
   "cell_type": "markdown",
   "source": [
    "2. Напишите функцию группового переименования файлов. Она должна:\n",
    "   * a. принимать параметр желаемое конечное имя файлов. \n",
    "     При переименовании в конце имени добавляется порядковый номер.\n",
    "   * b. принимать параметр количество цифр в порядковом номере.\n",
    "   * c. принимать параметр расширение исходного файла. \n",
    "     Переименование должно работать только для этих файлов внутри каталога.\n",
    "   * d. принимать параметр расширение конечного файла.\n",
    "   * e. принимать диапазон сохраняемого оригинального имени. \n",
    "Например для диапазона [3, 6] берутся буквы с 3 по 6 из исходного имени файла.\n",
    "   К ним прибавляется желаемое конечное имя, если оно передано. \n",
    "   Далее счётчик файлов и расширение.\n",
    "3. Соберите из созданных на уроке и в рамках домашнего задания функций\n",
    "пакет для работы с файлами."
   ],
   "id": "706593032995f521"
  },
  {
   "metadata": {
    "ExecuteTime": {
     "end_time": "2024-06-04T16:40:07.223292Z",
     "start_time": "2024-06-04T16:40:07.210811Z"
    }
   },
   "cell_type": "code",
   "source": [
    "import os\n",
    "from pathlib import Path\n",
    "from random import sample\n",
    "from shutil import move\n",
    "\n",
    "\n",
    "def file_maker():\n",
    "    random_ids = sample(range(100, 1000), 5)\n",
    "    extensions = [\"csv\", \"pkl\", \"hdf5\"]\n",
    "    data_folder = Path(\"data\")\n",
    "    data_folder.mkdir()\n",
    "    for file_id in random_ids:\n",
    "        for ext in extensions:\n",
    "            file_name = f\"file_{file_id}.{ext}\"\n",
    "            file_path = data_folder / file_name\n",
    "            with open(file_path, \"w\") as f:\n",
    "                f.write(f\"It's the file {file_name}.\")\n",
    "    return data_folder\n",
    "\n",
    "\n",
    "def file_group_renaming_tool(\n",
    "        digits_count: int,\n",
    "        ext: str,\n",
    "        new_ext: str,\n",
    "        file_range: list,\n",
    "        new_file_name: str = \"\",\n",
    "        path: str | Path = Path(\"data\"),\n",
    ") -> None:\n",
    "    data_folder = path\n",
    "\n",
    "    if not data_folder.exists() or not data_folder.is_dir():\n",
    "        print(f\"Создана папка с файлами {data_folder}.\")\n",
    "        data_folder = file_maker()\n",
    "\n",
    "    data_files = list(data_folder.glob(f\"*.{ext}\"))\n",
    "    name_slice = slice(file_range[0], file_range[1])\n",
    "\n",
    "    for num, data_file in enumerate(data_files):\n",
    "        if data_file.is_file():\n",
    "            old_name = (\n",
    "                data_file.stem[name_slice]\n",
    "                if file_range[1] <= len(data_file.stem)\n",
    "                else len(data_file.stem)\n",
    "            )\n",
    "            new_file_path = os.path.join(\n",
    "                data_folder,\n",
    "                f\"{old_name}{new_file_name}{num + 1:0{digits_count}}.{new_ext}\",\n",
    "            )\n",
    "            move(data_file, new_file_path)\n",
    "            print(\n",
    "                f\"Новое имя файла после преобразования: {old_name}{new_file_name}{num + 1:0{digits_count}}.{new_ext}\"\n",
    "            )\n",
    "        else:\n",
    "            print(f\"Файл {data_file} не существует.\")"
   ],
   "id": "58305340776cb7ed",
   "outputs": [],
   "execution_count": 1
  },
  {
   "metadata": {
    "ExecuteTime": {
     "end_time": "2024-06-04T16:41:11.935273Z",
     "start_time": "2024-06-04T16:41:11.917319Z"
    }
   },
   "cell_type": "code",
   "source": "file_group_renaming_tool(6, \"doc\", \"csv\", [0, 3], \"resume\")",
   "id": "7445cec8edf1b593",
   "outputs": [
    {
     "name": "stdout",
     "output_type": "stream",
     "text": [
      "Новое имя файла после преобразования: filresume000001.csv\n",
      "Новое имя файла после преобразования: filresume000002.csv\n",
      "Новое имя файла после преобразования: filresume000003.csv\n",
      "Новое имя файла после преобразования: filresume000004.csv\n",
      "Новое имя файла после преобразования: filresume000005.csv\n"
     ]
    }
   ],
   "execution_count": 5
  },
  {
   "metadata": {
    "ExecuteTime": {
     "end_time": "2024-06-04T16:40:07.918797Z",
     "start_time": "2024-06-04T16:40:07.916068Z"
    }
   },
   "cell_type": "code",
   "source": "",
   "id": "8aa5a2a3f065e34e",
   "outputs": [],
   "execution_count": 2
  }
 ],
 "metadata": {
  "kernelspec": {
   "display_name": "Python 3",
   "language": "python",
   "name": "python3"
  },
  "language_info": {
   "codemirror_mode": {
    "name": "ipython",
    "version": 2
   },
   "file_extension": ".py",
   "mimetype": "text/x-python",
   "name": "python",
   "nbconvert_exporter": "python",
   "pygments_lexer": "ipython2",
   "version": "2.7.6"
  }
 },
 "nbformat": 4,
 "nbformat_minor": 5
}
