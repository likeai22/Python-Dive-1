{
 "cells": [
  {
   "cell_type": "markdown",
   "source": [
    "1. Напишите функцию для транспонирования матрицы"
   ],
   "metadata": {
    "collapsed": false
   },
   "id": "4b2971512be1a564"
  },
  {
   "cell_type": "code",
   "execution_count": 2,
   "outputs": [],
   "source": [
    "from tabulate import tabulate"
   ],
   "metadata": {
    "collapsed": false,
    "ExecuteTime": {
     "end_time": "2024-05-09T04:05:30.766174700Z",
     "start_time": "2024-05-09T04:05:30.642832Z"
    }
   },
   "id": "d9e7a5f5332690d0"
  },
  {
   "cell_type": "code",
   "execution_count": 3,
   "id": "initial_id",
   "metadata": {
    "collapsed": true,
    "ExecuteTime": {
     "end_time": "2024-05-09T04:05:34.999102700Z",
     "start_time": "2024-05-09T04:05:30.662175200Z"
    }
   },
   "outputs": [
    {
     "name": "stdout",
     "output_type": "stream",
     "text": [
      "Исходная матрица:\n",
      "+---+----+----+----+\n",
      "| 1 |  2 |  3 |  4 |\n",
      "+---+----+----+----+\n",
      "| 5 |  6 |  7 |  8 |\n",
      "+---+----+----+----+\n",
      "| 9 | 10 | 11 | 12 |\n",
      "+---+----+----+----+\n",
      "\n",
      "Транспонированная матрица:\n",
      "+---+---+----+\n",
      "| 1 | 5 |  9 |\n",
      "+---+---+----+\n",
      "| 2 | 6 | 10 |\n",
      "+---+---+----+\n",
      "| 3 | 7 | 11 |\n",
      "+---+---+----+\n",
      "| 4 | 8 | 12 |\n",
      "+---+---+----+\n"
     ]
    }
   ],
   "source": [
    "def transpose_matrix(matrix):\n",
    "    if not matrix:\n",
    "        raise ValueError(\"Пустая матрица\")\n",
    "\n",
    "    num_rows = len(matrix)\n",
    "    num_cols = len(matrix[0])\n",
    "\n",
    "    if not all(len(row) == num_cols for row in matrix):\n",
    "        raise ValueError(\"Матрица не является прямоугольной\")\n",
    "  \n",
    "    transposed_matrix = [[None] * num_rows for _ in range(num_cols)]\n",
    "\n",
    "    for i in range(num_rows):\n",
    "        for j in range(num_cols):\n",
    "            transposed_matrix[j][i] = matrix[i][j]\n",
    "            \n",
    "    # transposed_matrix = zip(*matrix)  # короче\n",
    "\n",
    "    return transposed_matrix\n",
    "\n",
    "def print_matrix(matrix):\n",
    "    print(tabulate(matrix, tablefmt=\"grid\"))\n",
    "\n",
    "def generate_matrix(num_rows, num_cols):\n",
    "    return [[i * num_cols + j for j in range(1, num_cols + 1)] for i in range(num_rows)]\n",
    "\n",
    "\n",
    "try:\n",
    "    num_rows = int(input(\"Введите количество строк: \"))\n",
    "    num_cols = int(input(\"Введите количество столбцов: \"))\n",
    "\n",
    "    matrix = generate_matrix(num_rows, num_cols)\n",
    "    print(\"Исходная матрица:\")\n",
    "    print_matrix(matrix)\n",
    "\n",
    "    transposed_matrix = transpose_matrix(matrix)\n",
    "    print(\"\\nТранспонированная матрица:\")\n",
    "    print_matrix(transposed_matrix)\n",
    "\n",
    "except ValueError as e:\n",
    "    print(f\"Ошибка: {e}\")\n"
   ]
  },
  {
   "cell_type": "code",
   "execution_count": 3,
   "outputs": [],
   "source": [],
   "metadata": {
    "collapsed": false,
    "ExecuteTime": {
     "end_time": "2024-05-09T04:05:34.999102700Z",
     "start_time": "2024-05-09T04:05:34.968708900Z"
    }
   },
   "id": "918c6036a81f7770"
  },
  {
   "cell_type": "markdown",
   "source": [
    "2. Напишите функцию принимающую на вход только ключевые параметры и возвращающую словарь, где ключ — значение переданного аргумента, а значение — имя аргумента. Если ключ не хешируем, используйте его строковое представление."
   ],
   "metadata": {
    "collapsed": false
   },
   "id": "968850c6cd65ff9"
  },
  {
   "cell_type": "code",
   "execution_count": 4,
   "outputs": [
    {
     "name": "stdout",
     "output_type": "stream",
     "text": [
      "+-----------------------------+------------+\n",
      "| Ключ                        | Значение   |\n",
      "+=============================+============+\n",
      "| machine learning            | 100        |\n",
      "+-----------------------------+------------+\n",
      "| data analysis               | 200        |\n",
      "+-----------------------------+------------+\n",
      "| probabilistic distributions | 300        |\n",
      "+-----------------------------+------------+\n",
      "| neural networks             | 400        |\n",
      "+-----------------------------+------------+\n",
      "| {'a': 1, 'b': 2}            | dictionary |\n",
      "+-----------------------------+------------+\n",
      "| [72, 74, 81]                | list       |\n",
      "+-----------------------------+------------+\n"
     ]
    }
   ],
   "source": [
    "def process_data(features):\n",
    "    result = {}\n",
    "    for feature in features:\n",
    "        key = hashable(feature[\"value\"])\n",
    "        result[key] = feature[\"key\"]\n",
    "    return result\n",
    "\n",
    "def hashable(item):\n",
    "    if isinstance(item, (int, str, tuple)):\n",
    "        return item\n",
    "    else:\n",
    "        return str(item)\n",
    "\n",
    "def print_result(result):\n",
    "    table = [(str(key), value) for key, value in result.items()]\n",
    "    print(tabulate(table, headers=[\"Ключ\", \"Значение\"], tablefmt=\"grid\"))\n",
    "\n",
    "features = [\n",
    "    { \"key\": 100, \"value\": \"machine learning\" },\n",
    "    { \"key\": 200, \"value\": \"data analysis\" },\n",
    "    { \"key\": 300, \"value\": \"probabilistic distributions\" },\n",
    "    { \"key\": 400, \"value\": \"neural networks\" },\n",
    "    { \"key\": \"dictionary\", \"value\": {'a': 1, 'b': 2} },\n",
    "    { \"key\": \"list\", \"value\": [72, 74, 81] }\n",
    "]\n",
    "\n",
    "result = process_data(features)\n",
    "print_result(result)"
   ],
   "metadata": {
    "collapsed": false,
    "ExecuteTime": {
     "end_time": "2024-05-09T04:05:35.000128600Z",
     "start_time": "2024-05-09T04:05:34.977752900Z"
    }
   },
   "id": "a5d3f68adf8a7cbd"
  },
  {
   "cell_type": "code",
   "execution_count": 4,
   "outputs": [],
   "source": [],
   "metadata": {
    "collapsed": false,
    "ExecuteTime": {
     "end_time": "2024-05-09T04:05:35.001350300Z",
     "start_time": "2024-05-09T04:05:34.987803200Z"
    }
   },
   "id": "52dcd36b49568512"
  },
  {
   "cell_type": "markdown",
   "source": [
    "3. Возьмите задачу о банкомате из семинара 2. Разбейте её на отдельные операции — функции. Дополнительно сохраняйте все операции поступления и снятия средств в список.\n"
   ],
   "metadata": {
    "collapsed": false
   },
   "id": "e4292719913e2565"
  },
  {
   "cell_type": "code",
   "execution_count": 5,
   "outputs": [],
   "source": [
    "pass"
   ],
   "metadata": {
    "collapsed": false,
    "ExecuteTime": {
     "end_time": "2024-05-09T04:05:35.021944800Z",
     "start_time": "2024-05-09T04:05:34.995545800Z"
    }
   },
   "id": "d1fb957e7a89dba5"
  },
  {
   "cell_type": "code",
   "execution_count": 5,
   "outputs": [],
   "source": [],
   "metadata": {
    "collapsed": false,
    "ExecuteTime": {
     "end_time": "2024-05-09T04:05:35.024921600Z",
     "start_time": "2024-05-09T04:05:35.001900600Z"
    }
   },
   "id": "e3fe6727115c95fd"
  }
 ],
 "metadata": {
  "kernelspec": {
   "display_name": "Python 3",
   "language": "python",
   "name": "python3"
  },
  "language_info": {
   "codemirror_mode": {
    "name": "ipython",
    "version": 2
   },
   "file_extension": ".py",
   "mimetype": "text/x-python",
   "name": "python",
   "nbconvert_exporter": "python",
   "pygments_lexer": "ipython2",
   "version": "2.7.6"
  }
 },
 "nbformat": 4,
 "nbformat_minor": 5
}
