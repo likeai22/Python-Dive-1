{
 "cells": [
  {
   "cell_type": "markdown",
   "id": "4b2971512be1a564",
   "metadata": {
    "collapsed": false
   },
   "source": [
    "1. Напишите функцию для транспонирования матрицы"
   ]
  },
  {
   "cell_type": "code",
   "execution_count": 2,
   "id": "d9e7a5f5332690d0",
   "metadata": {
    "ExecuteTime": {
     "end_time": "2024-05-09T04:05:30.766174700Z",
     "start_time": "2024-05-09T04:05:30.642832Z"
    },
    "collapsed": false
   },
   "outputs": [],
   "source": [
    "from tabulate import tabulate"
   ]
  },
  {
   "cell_type": "code",
   "execution_count": 3,
   "id": "initial_id",
   "metadata": {
    "ExecuteTime": {
     "end_time": "2024-05-09T04:05:34.999102700Z",
     "start_time": "2024-05-09T04:05:30.662175200Z"
    },
    "collapsed": true
   },
   "outputs": [
    {
     "name": "stdout",
     "output_type": "stream",
     "text": [
      "Исходная матрица:\n",
      "+---+----+----+----+\n",
      "| 1 |  2 |  3 |  4 |\n",
      "+---+----+----+----+\n",
      "| 5 |  6 |  7 |  8 |\n",
      "+---+----+----+----+\n",
      "| 9 | 10 | 11 | 12 |\n",
      "+---+----+----+----+\n",
      "\n",
      "Транспонированная матрица:\n",
      "+---+---+----+\n",
      "| 1 | 5 |  9 |\n",
      "+---+---+----+\n",
      "| 2 | 6 | 10 |\n",
      "+---+---+----+\n",
      "| 3 | 7 | 11 |\n",
      "+---+---+----+\n",
      "| 4 | 8 | 12 |\n",
      "+---+---+----+\n"
     ]
    }
   ],
   "source": [
    "def transpose_matrix(matrix):\n",
    "    if not matrix:\n",
    "        raise ValueError(\"Пустая матрица\")\n",
    "\n",
    "    num_rows = len(matrix)\n",
    "    num_cols = len(matrix[0])\n",
    "    \n",
    "    transposed_matrix = [[None] * num_rows for _ in range(num_cols)]\n",
    "\n",
    "    for i in range(num_rows):\n",
    "        for j in range(num_cols):\n",
    "            transposed_matrix[j][i] = matrix[i][j]\n",
    "            \n",
    "    # transposed_matrix = zip(*matrix)  # короче\n",
    "\n",
    "    return transposed_matrix\n",
    "\n",
    "def print_matrix(matrix):\n",
    "    print(tabulate(matrix, tablefmt=\"grid\"))\n",
    "\n",
    "def generate_matrix(num_rows, num_cols):\n",
    "    return [[i * num_cols + j for j in range(1, num_cols + 1)] for i in range(num_rows)]\n",
    "\n",
    "\n",
    "try:\n",
    "    num_rows = int(input(\"Введите количество строк: \"))\n",
    "    num_cols = int(input(\"Введите количество столбцов: \"))\n",
    "\n",
    "    matrix = generate_matrix(num_rows, num_cols)\n",
    "    print(\"Исходная матрица:\")\n",
    "    print_matrix(matrix)\n",
    "\n",
    "    transposed_matrix = transpose_matrix(matrix)\n",
    "    print(\"\\nТранспонированная матрица:\")\n",
    "    print_matrix(transposed_matrix)\n",
    "\n",
    "except ValueError as e:\n",
    "    print(f\"Ошибка: {e}\")\n"
   ]
  },
  {
   "cell_type": "code",
   "execution_count": 3,
   "id": "918c6036a81f7770",
   "metadata": {
    "ExecuteTime": {
     "end_time": "2024-05-09T04:05:34.999102700Z",
     "start_time": "2024-05-09T04:05:34.968708900Z"
    },
    "collapsed": false
   },
   "outputs": [],
   "source": []
  },
  {
   "cell_type": "markdown",
   "id": "968850c6cd65ff9",
   "metadata": {
    "collapsed": false
   },
   "source": [
    "2. Напишите функцию принимающую на вход только ключевые параметры и возвращающую словарь, где ключ — значение переданного аргумента, а значение — имя аргумента. Если ключ не хешируем, используйте его строковое представление."
   ]
  },
  {
   "cell_type": "code",
   "execution_count": 3,
   "id": "a5d3f68adf8a7cbd",
   "metadata": {
    "ExecuteTime": {
     "end_time": "2024-05-09T04:05:35.000128600Z",
     "start_time": "2024-05-09T04:05:34.977752900Z"
    },
    "collapsed": false
   },
   "outputs": [
    {
     "name": "stdout",
     "output_type": "stream",
     "text": [
      "+-----------------------------+------------------+\n",
      "| Ключ                        | Значение         |\n",
      "+=============================+==================+\n",
      "| machine learning            | 100              |\n",
      "+-----------------------------+------------------+\n",
      "| data analysis               | 200              |\n",
      "+-----------------------------+------------------+\n",
      "| statistics                  | 15               |\n",
      "+-----------------------------+------------------+\n",
      "| Bayesian methods            | 58               |\n",
      "+-----------------------------+------------------+\n",
      "| probability                 | 12               |\n",
      "+-----------------------------+------------------+\n",
      "| neural networks             | 56               |\n",
      "+-----------------------------+------------------+\n",
      "| natural language processing | 1                |\n",
      "+-----------------------------+------------------+\n",
      "| probabilistic distributions | 999              |\n",
      "+-----------------------------+------------------+\n",
      "| list                        | [1, 2, 3]        |\n",
      "+-----------------------------+------------------+\n",
      "| dictionary                  | {'a': 1, 'b': 2} |\n",
      "+-----------------------------+------------------+\n"
     ]
    }
   ],
   "source": [
    "from tabulate import tabulate\n",
    "\n",
    "ds_notes = [\n",
    "    (100, \"machine learning\"),\n",
    "    (200, \"data analysis\"),\n",
    "    (15, \"statistics\"),\n",
    "    (58, \"Bayesian methods\"),\n",
    "    (12, \"probability\"),\n",
    "    (56, \"neural networks\"),\n",
    "    (1, \"natural language processing\"),\n",
    "    (999, \"probabilistic distributions\"),\n",
    "    ([1, 2, 3], \"list\"),\n",
    "    ({'a': 1, 'b': 2}, \"dictionary\")\n",
    "]\n",
    "\n",
    "def process_data(data):\n",
    "    return {value: key for key, value in data}\n",
    "\n",
    "def print_result(result):\n",
    "    table = [(key, value) for key, value in result.items()]\n",
    "    print(tabulate(table, headers=[\"Ключ\", \"Значение\"], tablefmt=\"grid\"))\n",
    "\n",
    "result = process_data(ds_notes)\n",
    "print_result(result)\n",
    "\n",
    "assert process_data([(100, \"machine learning\"), ([1, 2, 3], \"list\")]) == {'machine learning': 100, 'list': [1, 2, 3]}"
   ]
  },
  {
   "cell_type": "code",
   "execution_count": 4,
   "id": "52dcd36b49568512",
   "metadata": {
    "ExecuteTime": {
     "end_time": "2024-05-09T04:05:35.001350300Z",
     "start_time": "2024-05-09T04:05:34.987803200Z"
    },
    "collapsed": false
   },
   "outputs": [],
   "source": []
  },
  {
   "cell_type": "markdown",
   "id": "e4292719913e2565",
   "metadata": {
    "collapsed": false
   },
   "source": [
    "3. Возьмите задачу о банкомате из семинара 2. Разбейте её на отдельные операции — функции. Дополнительно сохраняйте все операции поступления и снятия средств в список.\n"
   ]
  },
  {
   "cell_type": "markdown",
   "metadata": {},
   "source": [
    "workshop code:"
   ]
  },
  {
   "cell_type": "code",
   "execution_count": 3,
   "metadata": {},
   "outputs": [],
   "source": [
    "import decimal\n",
    "\n",
    "\n",
    "# decimal.getcontext().prec = 2\n",
    "MULTIPLICITY = 50\n",
    "PERCENT = decimal.Decimal(15)/decimal.Decimal(1000)\n",
    "PERCENT_BONUS = decimal.Decimal(3)/decimal.Decimal(100)\n",
    "MIN_LIMIT = decimal.Decimal(30)\n",
    "MAX_LIMIT = decimal.Decimal(600)\n",
    "PERCENT_RICHNESS = decimal.Decimal(10)/decimal.Decimal(100)\n",
    "RICHNESS_AMOUNT = 5_000_000\n",
    "CMD_DEPOSIT = \"1\"\n",
    "CMD_WITHDRAW = \"2\"\n",
    "CMD_EXIT = \"3\"\n",
    "COUNT_PERC = 3"
   ]
  },
  {
   "cell_type": "code",
   "execution_count": null,
   "metadata": {},
   "outputs": [],
   "source": [
    "balance = 0\n",
    "operations = 0\n",
    "while True:\n",
    "    action = input(\n",
    "        f\"Введите действие:\\n\"\n",
    "        f\"пополнить {CMD_DEPOSIT}\\n\"\n",
    "        f\"снять {CMD_WITHDRAW}\\n\"\n",
    "        f\"выход {CMD_EXIT}\"\n",
    "    )\n",
    "    if action == CMD_DEPOSIT or action == CMD_WITHDRAW:\n",
    "        amount = int(input(f\"Введите сумму кратную {MULTIPLICITY}: \"))\n",
    "        # amount = 1\n",
    "        if balance > RICHNESS_AMOUNT:\n",
    "            sum_percent = balance * PERCENT_RICHNESS\n",
    "            balance -= sum_percent\n",
    "            print(f\"Вычтем налог на богатство в размере {sum_percent}\")\n",
    "        while amount % MULTIPLICITY != 0:\n",
    "            if amount % MULTIPLICITY != 0:\n",
    "                print(f\"Сумма должна быть кратна {MULTIPLICITY}\")\n",
    "            amount = int(input(f\"Введите сумму кратную {MULTIPLICITY}: \"))\n",
    "        if action == CMD_DEPOSIT:\n",
    "            operations += 1\n",
    "            balance += amount\n",
    "            print(f\"Сумма пополнения {amount}, текущий баланс {balance}\")\n",
    "        else:\n",
    "            commission = amount * PERCENT\n",
    "            if commission < MIN_LIMIT:\n",
    "                commission = MIN_LIMIT\n",
    "            elif commission > MAX_LIMIT:\n",
    "                commission = MAX_LIMIT\n",
    "            if commission + amount > balance:\n",
    "                print(\"На балансе недостаточно средств\")\n",
    "            else:\n",
    "                operations += 1\n",
    "                balance -= (amount + commission)\n",
    "                print(f\"Сумма снятия {amount}, комиссия {commission}, общая сумма снятия {amount + commission}\")\n",
    "            print(f\"Ваш текущий баланс {balance}\")\n",
    "        if operations % COUNT_PERC == 0 and operations > 1:\n",
    "            bonus_sum = balance * PERCENT_BONUS\n",
    "            balance += bonus_sum\n",
    "            print(f\"Сумма бонуса {bonus_sum}\")\n",
    "            print(f\"Текущий баланс {balance}\")\n",
    "    elif action == CMD_EXIT:\n",
    "        print(f\"До встречи! Текущий баланс {balance}\")\n",
    "        break\n",
    "    else:\n",
    "        print(f\"Сумма на счете {balance}\")"
   ]
  },
  {
   "cell_type": "code",
   "execution_count": 5,
   "id": "e3fe6727115c95fd",
   "metadata": {
    "ExecuteTime": {
     "end_time": "2024-05-09T04:05:35.024921600Z",
     "start_time": "2024-05-09T04:05:35.001900600Z"
    },
    "collapsed": false
   },
   "outputs": [],
   "source": []
  },
  {
   "cell_type": "markdown",
   "metadata": {},
   "source": [
    "Homework code"
   ]
  },
  {
   "cell_type": "code",
   "execution_count": 4,
   "metadata": {},
   "outputs": [],
   "source": [
    "def withdraw(amount, balance):\n",
    "    commission = get_commission(amount)\n",
    "    total_withdrawal = amount + commission\n",
    "    if total_withdrawal > balance:\n",
    "        print(\"На балансе недостаточно средств\")\n",
    "    else:\n",
    "        balance -= total_withdrawal\n",
    "        print(f\"Сумма снятия {amount}, комиссия {commission}, общая сумма снятия {total_withdrawal}\")\n",
    "    return balance\n",
    "\n",
    "def deposit(amount, balance):\n",
    "    balance += amount\n",
    "    print(f\"Сумма пополнения {amount}\")\n",
    "    return balance\n",
    "\n",
    "def rich_check(balance):\n",
    "    if balance > RICHNESS_AMOUNT:\n",
    "        richness_tax = get_richness_tax(balance)\n",
    "        balance -= richness_tax\n",
    "    return balance\n",
    "\n",
    "def dispose(balance):\n",
    "    print(f\"До встречи!\")\n",
    "    show_balance(balance)\n",
    "\n",
    "def show_balance(balance):\n",
    "    print(f\"Ваш текущий баланс {balance}\")\n",
    "\n",
    "def get_commission(amount):\n",
    "    commission = amount * PERCENT\n",
    "    if commission < MIN_LIMIT:\n",
    "        commission = MIN_LIMIT\n",
    "    elif commission > MAX_LIMIT:\n",
    "        commission = MAX_LIMIT\n",
    "    return commission\n",
    "\n",
    "def get_just_reward(balance):\n",
    "    bonus_sum = balance * PERCENT_BONUS\n",
    "    print(f\"Сумма бонуса {bonus_sum}\")\n",
    "    return bonus_sum\n",
    "\n",
    "def get_richness_tax(balance):\n",
    "    sum_percent = balance * PERCENT_RICHNESS\n",
    "    print(f\"Вычтем налог на богатство в размере {sum_percent}\")\n",
    "    return sum_percent\n",
    "\n",
    "def set_amount(amount):\n",
    "    while amount % MULTIPLICITY != 0:\n",
    "        if amount % MULTIPLICITY != 0:\n",
    "            print(f\"Сумма должна быть кратна {MULTIPLICITY}\")\n",
    "        amount = int(input(f\"Введите сумму кратную {MULTIPLICITY}: \"))\n",
    "    return amount"
   ]
  },
  {
   "cell_type": "code",
   "execution_count": null,
   "metadata": {},
   "outputs": [],
   "source": [
    "def main():\n",
    "    balance = 0\n",
    "    operations = 0\n",
    "    while True:\n",
    "        action = input(\n",
    "            f\"Введите действие:\\n\"\n",
    "            f\"пополнить {CMD_DEPOSIT}\\n\"\n",
    "            f\"снять {CMD_WITHDRAW}\\n\"\n",
    "            f\"выход {CMD_EXIT}\"\n",
    "        )\n",
    "        if action == CMD_DEPOSIT or action == CMD_WITHDRAW:\n",
    "            amount = int(input(f\"Введите сумму кратную {MULTIPLICITY}: \"))\n",
    "            amount = set_amount(amount)\n",
    "\n",
    "            if action == CMD_DEPOSIT:\n",
    "                balance = deposit(amount, balance)\n",
    "            else:\n",
    "                balance = withdraw(amount, balance)\n",
    "            operations += 1\n",
    "            balance = rich_check(balance)\n",
    "            if operations % COUNT_PERC == 0 and operations > 1:\n",
    "                balance += get_just_reward(balance)\n",
    "            show_balance(balance)\n",
    "        elif action == CMD_EXIT:\n",
    "            dispose(balance)\n",
    "            break\n",
    "        else:\n",
    "            show_balance(balance)"
   ]
  },
  {
   "cell_type": "code",
   "execution_count": 5,
   "metadata": {},
   "outputs": [
    {
     "name": "stdout",
     "output_type": "stream",
     "text": [
      "Сумма пополнения 50\n",
      "Ваш текущий баланс 50\n",
      "Сумма пополнения 250\n",
      "Ваш текущий баланс 300\n",
      "Сумма пополнения 550\n",
      "Сумма бонуса 25.50\n",
      "Ваш текущий баланс 875.50\n",
      "Сумма снятия 350, комиссия 30, общая сумма снятия 380\n",
      "Ваш текущий баланс 495.50\n",
      "До встречи!\n",
      "Ваш текущий баланс 495.50\n"
     ]
    }
   ],
   "source": [
    "if __name__ == \"__main__\":\n",
    "    main()"
   ]
  },
  {
   "cell_type": "code",
   "execution_count": null,
   "metadata": {},
   "outputs": [],
   "source": []
  }
 ],
 "metadata": {
  "kernelspec": {
   "display_name": "Python 3",
   "language": "python",
   "name": "python3"
  },
  "language_info": {
   "codemirror_mode": {
    "name": "ipython",
    "version": 3
   },
   "file_extension": ".py",
   "mimetype": "text/x-python",
   "name": "python",
   "nbconvert_exporter": "python",
   "pygments_lexer": "ipython3",
   "version": "3.12.0"
  }
 },
 "nbformat": 4,
 "nbformat_minor": 5
}
