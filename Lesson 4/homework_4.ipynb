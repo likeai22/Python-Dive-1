{
 "cells": [
  {
   "cell_type": "markdown",
   "source": [
    "1. Напишите функцию для транспонирования матрицы"
   ],
   "metadata": {
    "collapsed": false
   },
   "id": "4b2971512be1a564"
  },
  {
   "cell_type": "code",
   "execution_count": 4,
   "outputs": [],
   "source": [
    "from tabulate import tabulate"
   ],
   "metadata": {
    "collapsed": false,
    "ExecuteTime": {
     "end_time": "2024-05-09T03:42:37.229187Z",
     "start_time": "2024-05-09T03:42:37.104857400Z"
    }
   },
   "id": "d9e7a5f5332690d0"
  },
  {
   "cell_type": "code",
   "execution_count": 5,
   "id": "initial_id",
   "metadata": {
    "collapsed": true,
    "ExecuteTime": {
     "end_time": "2024-05-09T03:42:43.064541900Z",
     "start_time": "2024-05-09T03:42:37.115192500Z"
    }
   },
   "outputs": [
    {
     "name": "stdout",
     "output_type": "stream",
     "text": [
      "Исходная матрица:\n",
      "+----+----+----+----+----+\n",
      "|  1 |  2 |  3 |  4 |  5 |\n",
      "+----+----+----+----+----+\n",
      "|  6 |  7 |  8 |  9 | 10 |\n",
      "+----+----+----+----+----+\n",
      "| 11 | 12 | 13 | 14 | 15 |\n",
      "+----+----+----+----+----+\n",
      "\n",
      "Транспонированная матрица:\n",
      "+---+----+----+\n",
      "| 1 |  6 | 11 |\n",
      "+---+----+----+\n",
      "| 2 |  7 | 12 |\n",
      "+---+----+----+\n",
      "| 3 |  8 | 13 |\n",
      "+---+----+----+\n",
      "| 4 |  9 | 14 |\n",
      "+---+----+----+\n",
      "| 5 | 10 | 15 |\n",
      "+---+----+----+\n"
     ]
    }
   ],
   "source": [
    "def transpose_matrix(matrix):\n",
    "    if not matrix:\n",
    "        raise ValueError(\"Пустая матрица\")\n",
    "\n",
    "    num_rows = len(matrix)\n",
    "    num_cols = len(matrix[0])\n",
    "\n",
    "    if not all(len(row) == num_cols for row in matrix):\n",
    "        raise ValueError(\"Матрица не является прямоугольной\")\n",
    "  \n",
    "    transposed_matrix = [[None] * num_rows for _ in range(num_cols)]\n",
    "\n",
    "    for i in range(num_rows):\n",
    "        for j in range(num_cols):\n",
    "            transposed_matrix[j][i] = matrix[i][j]\n",
    "            \n",
    "    # transposed_matrix = zip(*matrix)  # короче\n",
    "\n",
    "    return transposed_matrix\n",
    "\n",
    "def print_matrix(matrix):\n",
    "    print(tabulate(matrix, tablefmt=\"grid\"))\n",
    "\n",
    "def generate_matrix(num_rows, num_cols):\n",
    "    return [[i * num_cols + j for j in range(1, num_cols + 1)] for i in range(num_rows)]\n",
    "\n",
    "\n",
    "try:\n",
    "    num_rows = int(input(\"Введите количество строк: \"))\n",
    "    num_cols = int(input(\"Введите количество столбцов: \"))\n",
    "\n",
    "    matrix = generate_matrix(num_rows, num_cols)\n",
    "    print(\"Исходная матрица:\")\n",
    "    print_matrix(matrix)\n",
    "\n",
    "    transposed_matrix = transpose_matrix(matrix)\n",
    "    print(\"\\nТранспонированная матрица:\")\n",
    "    print_matrix(transposed_matrix)\n",
    "\n",
    "except ValueError as e:\n",
    "    print(f\"Ошибка: {e}\")\n"
   ]
  },
  {
   "cell_type": "code",
   "execution_count": 5,
   "outputs": [],
   "source": [],
   "metadata": {
    "collapsed": false,
    "ExecuteTime": {
     "end_time": "2024-05-09T03:42:43.065542700Z",
     "start_time": "2024-05-09T03:42:43.041205400Z"
    }
   },
   "id": "918c6036a81f7770"
  },
  {
   "cell_type": "markdown",
   "source": [
    "2. Напишите функцию принимающую на вход только ключевые параметры и возвращающую словарь, где ключ — значение переданного аргумента, а значение — имя аргумента. Если ключ не хешируем, используйте его строковое представление."
   ],
   "metadata": {
    "collapsed": false
   },
   "id": "968850c6cd65ff9"
  },
  {
   "cell_type": "code",
   "execution_count": 6,
   "outputs": [
    {
     "name": "stdout",
     "output_type": "stream",
     "text": [
      "+------------+-----------------------------+\n",
      "| Ключ       | Значение                    |\n",
      "+============+=============================+\n",
      "| 100        | machine learning            |\n",
      "+------------+-----------------------------+\n",
      "| 200        | data analysis               |\n",
      "+------------+-----------------------------+\n",
      "| 300        | probabilistic distributions |\n",
      "+------------+-----------------------------+\n",
      "| 400        | neural networks             |\n",
      "+------------+-----------------------------+\n",
      "| dictionary | {'a': 1, 'b': 2}            |\n",
      "+------------+-----------------------------+\n",
      "| list       | [72, 74, 81]                |\n",
      "+------------+-----------------------------+\n"
     ]
    }
   ],
   "source": [
    "def process_data(features):\n",
    "    result = {}\n",
    "    for feature in features:\n",
    "        key = hashable(feature[\"key\"])\n",
    "        result[key] = feature[\"value\"]\n",
    "    return result\n",
    "\n",
    "def hashable(item):\n",
    "    if isinstance(item, (int, str, tuple)):\n",
    "        return item\n",
    "    else:\n",
    "        return str(item)\n",
    "\n",
    "def print_result(result):\n",
    "    table = [(str(key), value) for key, value in result.items()]\n",
    "    print(tabulate(table, headers=[\"Ключ\", \"Значение\"], tablefmt=\"grid\"))\n",
    "\n",
    "features = [\n",
    "    { \"key\": 100, \"value\": \"machine learning\" },\n",
    "    { \"key\": 200, \"value\": \"data analysis\" },\n",
    "    { \"key\": 300, \"value\": \"probabilistic distributions\" },\n",
    "    { \"key\": 400, \"value\": \"neural networks\" },\n",
    "    { \"key\": \"dictionary\", \"value\": {'a': 1, 'b': 2} },\n",
    "    { \"key\": \"list\", \"value\": [72, 74, 81] }\n",
    "]\n",
    "\n",
    "result = process_data(features)\n",
    "print_result(result)"
   ],
   "metadata": {
    "collapsed": false,
    "ExecuteTime": {
     "end_time": "2024-05-09T03:42:43.065924700Z",
     "start_time": "2024-05-09T03:42:43.048204400Z"
    }
   },
   "id": "a5d3f68adf8a7cbd"
  },
  {
   "cell_type": "code",
   "execution_count": 6,
   "outputs": [],
   "source": [],
   "metadata": {
    "collapsed": false,
    "ExecuteTime": {
     "end_time": "2024-05-09T03:42:43.066450200Z",
     "start_time": "2024-05-09T03:42:43.059015Z"
    }
   },
   "id": "52dcd36b49568512"
  },
  {
   "cell_type": "markdown",
   "source": [
    "3. Возьмите задачу о банкомате из семинара 2. Разбейте её на отдельные операции — функции. Дополнительно сохраняйте все операции поступления и снятия средств в список.\n"
   ],
   "metadata": {
    "collapsed": false
   },
   "id": "e4292719913e2565"
  },
  {
   "cell_type": "code",
   "execution_count": 7,
   "outputs": [],
   "source": [
    "pass"
   ],
   "metadata": {
    "collapsed": false,
    "ExecuteTime": {
     "end_time": "2024-05-09T03:42:43.097151700Z",
     "start_time": "2024-05-09T03:42:43.067527Z"
    }
   },
   "id": "d1fb957e7a89dba5"
  },
  {
   "cell_type": "code",
   "execution_count": 7,
   "outputs": [],
   "source": [],
   "metadata": {
    "collapsed": false,
    "ExecuteTime": {
     "end_time": "2024-05-09T03:42:43.097151700Z",
     "start_time": "2024-05-09T03:42:43.074114100Z"
    }
   },
   "id": "e3fe6727115c95fd"
  }
 ],
 "metadata": {
  "kernelspec": {
   "display_name": "Python 3",
   "language": "python",
   "name": "python3"
  },
  "language_info": {
   "codemirror_mode": {
    "name": "ipython",
    "version": 2
   },
   "file_extension": ".py",
   "mimetype": "text/x-python",
   "name": "python",
   "nbconvert_exporter": "python",
   "pygments_lexer": "ipython2",
   "version": "2.7.6"
  }
 },
 "nbformat": 4,
 "nbformat_minor": 5
}
