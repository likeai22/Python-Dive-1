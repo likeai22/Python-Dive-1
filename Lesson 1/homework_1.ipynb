{
 "cells": [
  {
   "cell_type": "markdown",
   "metadata": {},
   "source": [
    "## Задача2\n",
    "\n",
    "Треугольник существует только тогда, когда сумма любых двух его сторон больше третьей. Дано a, b, c - стороны предполагаемого треугольника. Требуется сравнить длину каждого отрезка-стороны с суммой двух других. Если хотя бы в одном случае отрезок окажется больше суммы двух других, то треугольника с такими сторонами не существует. Отдельно сообщить является ли треугольник разносторонним, равнобедренным или равносторонним."
   ]
  },
  {
   "cell_type": "markdown",
   "metadata": {},
   "source": [
    "*[Верификация: генератор треугольников](https://matematika-club.ru/generator-treugolnikov)*"
   ]
  },
  {
   "cell_type": "code",
   "execution_count": 5,
   "metadata": {},
   "outputs": [
    {
     "name": "stdout",
     "output_type": "stream",
     "text": [
      "Вы ввели: a=1.0, b=1.0, c=3.0\n",
      "Треугольник не существует.\n",
      "Сторона 'c' >= суммы двух других сторон.\n"
     ]
    }
   ],
   "source": [
    "a, b, c = map(float, input(\"Введите длины сторон треугольника: \").split())\n",
    "print(f\"Вы ввели: a={a}, b={b}, c={c}\")\n",
    "\n",
    "if a >= b + c or b >= a + c or c >= a + b:\n",
    "    print(\"Треугольник не существует.\")\n",
    "    if a >= b + c:\n",
    "        print(\"Сторона 'a' >= суммы двух других сторон.\")\n",
    "    elif b >= a + c:\n",
    "        print(\"Сторона 'b' >= суммы двух других сторон.\")\n",
    "    else:\n",
    "        print(\"Сторона 'c' >= суммы двух других сторон.\")\n",
    "else:\n",
    "    print('Треугольник существует.')\n",
    "    if a == b == c:\n",
    "        print(\"Треугольник равносторонний.\")\n",
    "    elif a == b or a == c or b == c:\n",
    "        print(\"Треугольник равнобедренный.\")\n",
    "    else:\n",
    "        print(\"Треугольник разносторонний.\")\n"
   ]
  },
  {
   "cell_type": "markdown",
   "metadata": {},
   "source": [
    "## Задача 3\n",
    "\n",
    "Напишите  код,  который  запрашивает  число  и  сообщает  является  ли  оно  простым  или составным.\n",
    "Используйте  правило  для проверки: “Число является простым, если делится нацело только на единицу и\n",
    "на себя”. Сделайте ограничение на ввод отрицательных чисел и чисел больше 100 тысяч."
   ]
  },
  {
   "cell_type": "markdown",
   "metadata": {},
   "source": [
    "Простые числа - это натуральные числа больше единицы, которые делятся нацело только на единицу и на себя. Остальные натуральные числа называются составными. Единственное исключение — единицу — не относят ни к простым, ни к составным.\n",
    "\n",
    "Алгоритм перебора делителей используется для определения, является ли натуральное число простым или составным. Он заключается в последовательном делении заданного числа на все целые числа, начиная с двойки и заканчивая значением, меньшим или равным квадратному корню из числа. Если найдется хотя бы один делитель, который делит число без остатка, то оно считается составным; если же такого делителя не обнаружится, то число считается простым."
   ]
  },
  {
   "cell_type": "markdown",
   "metadata": {},
   "source": [
    "### Оптимизированный перебор делителей\n",
    "\n",
    "Наименьший делитель составного числа \n",
    " не превосходит $\\sqrt{n}$ *[Доказательство](http://mech.math.msu.su/~shvetz/54/inf/perl-examples/PerlExamples_Primes_Ideas.xhtml)*.\n"
   ]
  },
  {
   "cell_type": "code",
   "execution_count": 10,
   "metadata": {},
   "outputs": [
    {
     "name": "stdout",
     "output_type": "stream",
     "text": [
      "77 - составное число\n"
     ]
    }
   ],
   "source": [
    "UPPER_LIMIT = 100000\n",
    "LOWER_LIMIT = 2\n",
    "\n",
    "num = int(input(\"Введите число: \"))\n",
    "\n",
    "if num > UPPER_LIMIT:\n",
    "    print(f\"Число должно быть меньше либо равно {UPPER_LIMIT}\")\n",
    "elif num < LOWER_LIMIT:\n",
    "    print(\"Число должно быть больше 1\")\n",
    "else:\n",
    "    if num == 2:\n",
    "        print(f'{num} - простое число')\n",
    "    elif num % 2 == 0:\n",
    "        print(f'{num} - составное число')\n",
    "    else:\n",
    "        is_prime = True\n",
    "        for i in range(3, int(num**0.5) + 1, 2):\n",
    "            if num % i == 0:\n",
    "                is_prime = False\n",
    "                break\n",
    "        \n",
    "        if is_prime:\n",
    "            print(f'{num} - простое число')\n",
    "        else:\n",
    "            print(f'{num} - составное число')\n"
   ]
  },
  {
   "cell_type": "markdown",
   "metadata": {},
   "source": [
    "## Задача 4\n",
    "\n",
    "Программа загадывает число от 0 до 1000. Необходимо угадать число за 10 попыток. Программа должна подсказывать “больше” или “меньше” после каждой попытки. Для генерации случайного числа используйте код:\n",
    "from random import randintnum = randint(LOWER_LIMIT, UPPER_LIMIT)"
   ]
  },
  {
   "cell_type": "code",
   "execution_count": 21,
   "metadata": {},
   "outputs": [
    {
     "name": "stdout",
     "output_type": "stream",
     "text": [
      "151\n",
      "300, много, осталось 2 попыток\n",
      "200, много, осталось 1 попыток\n",
      "150, мало, осталось 0 попыток\n",
      "Вы не угадали. Загаданное число было 151\n"
     ]
    }
   ],
   "source": [
    "from random import randint\n",
    "\n",
    "UPPER_LIMIT = 1000\n",
    "LOWER_LIMIT = 0\n",
    "\n",
    "MAX_ATTEMPTS = 10\n",
    "MIN_ATTEMPTS = 1\n",
    "\n",
    "target_number = randint(LOWER_LIMIT, UPPER_LIMIT)\n",
    "# print(target_number)\n",
    "\n",
    "attempts = MIN_ATTEMPTS\n",
    "guess = int(input(\"Введите число от 0 до 1000: \"))\n",
    "while attempts <= MAX_ATTEMPTS:\n",
    "    if attempts > MIN_ATTEMPTS:\n",
    "        guess = int(input(\"Введите новое число: \"))\n",
    "\n",
    "    if guess < target_number:\n",
    "        print(f'{guess}, мало, осталось {MAX_ATTEMPTS - attempts} попыток')\n",
    "    elif guess > target_number:\n",
    "        print(f'{guess}, много, осталось {MAX_ATTEMPTS - attempts} попыток')\n",
    "    else:\n",
    "        print(f'Вы угадали {target_number} с {attempts} попытки')\n",
    "        break    \n",
    "    if attempts == MAX_ATTEMPTS and guess != target_number:\n",
    "        print(f'Вы не угадали. Загаданное число было {target_number}')\n",
    "    \n",
    "    attempts += 1\n"
   ]
  }
 ],
 "metadata": {
  "kernelspec": {
   "display_name": "py312_math",
   "language": "python",
   "name": "python3"
  },
  "language_info": {
   "codemirror_mode": {
    "name": "ipython",
    "version": 3
   },
   "file_extension": ".py",
   "mimetype": "text/x-python",
   "name": "python",
   "nbconvert_exporter": "python",
   "pygments_lexer": "ipython3",
   "version": "3.12.0"
  }
 },
 "nbformat": 4,
 "nbformat_minor": 2
}
