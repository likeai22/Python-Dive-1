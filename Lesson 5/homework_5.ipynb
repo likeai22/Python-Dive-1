{
    "cells": [
        {
            "cell_type": "markdown",
            "metadata": {},
            "source": [
                "Напишите функцию, которая принимает на вход строку - абсолютный путь до файла. Функция возвращает кортеж из трёх элементов: путь, имя файла, расширение файла."
            ]
        },
        {
            "cell_type": "code",
            "execution_count": 1,
            "metadata": {},
            "outputs": [
                {
                    "name": "stdout",
                    "output_type": "stream",
                    "text": [
                        "('docs/files', 'file', 'txt')\n"
                    ]
                }
            ],
            "source": [
                "def split_file_path(file_path):\n",
                "    directories, file_name = file_path.rsplit(\"/\", 1)\n",
                "    name, extension = file_name.rsplit(\".\", 1)\n",
                "    parts_tuple = tuple(part for part in [directories, name, extension])\n",
                "    return parts_tuple\n",
                "\n",
                "\n",
                "file_path = \"docs/files/file.txt\"\n",
                "result = split_file_path(file_path)\n",
                "print(result)"
            ]
        },
        {
            "cell_type": "markdown",
            "metadata": {},
            "source": [
                "Напишите однострочный генератор словаря, который принимает на вход три списка одинаковой длины: имена str, ставка int, премия str с указанием процентов вида “10.25%”. В результате получаем словарь с именем в качестве ключа и суммой премии в качестве значения. Сумма рассчитывается как ставка умноженная на процент премии"
            ]
        },
        {
            "cell_type": "code",
            "execution_count": 2,
            "metadata": {},
            "outputs": [
                {
                    "name": "stdout",
                    "output_type": "stream",
                    "text": [
                        "{'Name_1': 194, 'Name_2': 219, 'Name_3': 745, 'Name_4': 511, 'Name_5': 110, 'Name_6': 146}\n",
                        "{'Name_1': 194, 'Name_2': 219, 'Name_3': 745, 'Name_4': 511, 'Name_5': 110, 'Name_6': 146}\n"
                    ]
                }
            ],
            "source": [
                "import random\n",
                "\n",
                "# Генерация тестовых данных\n",
                "names = [f\"Name_{i}\" for i in range(1, random.randint(7, 16))]\n",
                "rates = [random.randint(1000, 5000) for _ in range(len(names))]\n",
                "bonuses = [f\"{random.uniform(5, 20):.2f}%\" for _ in range(len(names))]\n",
                "\n",
                "for_loop_dict = {}\n",
                "for name, rate, bonus in zip(names, rates, bonuses):\n",
                "    # value = float(bonus.split(\"%\", 1)[0])\n",
                "    for_loop_dict[name] = int(0.01 * float(bonus.strip(\"%\")) * rate)\n",
                "\n",
                "print(for_loop_dict)\n",
                "\n",
                "# однострочный генератор словаря\n",
                "result_dict = {\n",
                "    name: int(rate * float(percentage.strip(\"%\")) / 100)\n",
                "    for name, rate, percentage in zip(names, rates, bonuses)\n",
                "}\n",
                "print(result_dict)"
            ]
        },
        {
            "cell_type": "markdown",
            "metadata": {},
            "source": [
                "Создайте функцию генератор чисел Фибоначчи"
            ]
        },
        {
            "cell_type": "code",
            "execution_count": 3,
            "metadata": {},
            "outputs": [
                {
                    "data": {
                        "text/plain": [
                            "[1, 1, 2, 3, 5, 8, 13]"
                        ]
                    },
                    "execution_count": 3,
                    "metadata": {},
                    "output_type": "execute_result"
                }
            ],
            "source": [
                "def fib_gen(n):\n",
                "    fib_numbers = [1, 1]  # Начальные числа Фибоначчи\n",
                "    yield from fib_numbers[:n]  # Генерация первых n чисел Фибоначчи\n",
                "\n",
                "    for _ in range(n - 2):\n",
                "        fib_numbers.append(\n",
                "            fib_numbers[-1] + fib_numbers[-2]\n",
                "        )  # Вычисление следующего числа Фибоначчи\n",
                "        yield fib_numbers[-1]  # Возвращение следующего числа Фибоначчи\n",
                "\n",
                "\n",
                "[num for num in fib_gen(7)]"
            ]
        },
        {
            "cell_type": "code",
            "execution_count": null,
            "metadata": {},
            "outputs": [],
            "source": []
        }
    ],
    "metadata": {
        "kernelspec": {
            "display_name": "py312_math",
            "language": "python",
            "name": "python3"
        },
        "language_info": {
            "codemirror_mode": {
                "name": "ipython",
                "version": 3
            },
            "file_extension": ".py",
            "mimetype": "text/x-python",
            "name": "python",
            "nbconvert_exporter": "python",
            "pygments_lexer": "ipython3",
            "version": "3.12.0"
        }
    },
    "nbformat": 4,
    "nbformat_minor": 2
}
